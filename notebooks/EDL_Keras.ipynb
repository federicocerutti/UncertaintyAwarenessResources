{
  "nbformat": 4,
  "nbformat_minor": 0,
  "metadata": {
    "colab": {
      "name": "EDL-Keras.ipynb",
      "provenance": []
    },
    "kernelspec": {
      "name": "python3",
      "display_name": "Python 3"
    },
    "accelerator": "GPU"
  },
  "cells": [
    {
      "cell_type": "markdown",
      "metadata": {
        "id": "2r_eQO1rNSkH",
        "colab_type": "text"
      },
      "source": [
        "# EDL implemented in Keras\n",
        "\n",
        "This is an implementation in Keras of the \n",
        "\n",
        "The paper can be accesed over http://arxiv.org/abs/1806.01768\n",
        "\n",
        "The notebook can be accesed over https://muratsensoy.github.io/uncertainty.ipynb"
      ]
    },
    {
      "cell_type": "code",
      "metadata": {
        "id": "exax50SX8144",
        "colab_type": "code",
        "colab": {}
      },
      "source": [
        "from __future__ import print_function\n",
        "import keras\n",
        "from keras.datasets import mnist\n",
        "from keras.models import Sequential\n",
        "from keras.layers import Dense, Dropout, Flatten\n",
        "from keras.layers import Conv2D, MaxPooling2D\n",
        "from keras import backend as K"
      ],
      "execution_count": 0,
      "outputs": []
    },
    {
      "cell_type": "markdown",
      "metadata": {
        "id": "np2N_puEVZLF",
        "colab_type": "text"
      },
      "source": [
        "## Plain Vanilla NN on MNIST"
      ]
    },
    {
      "cell_type": "code",
      "metadata": {
        "id": "SBp8T93gl-yT",
        "colab_type": "code",
        "outputId": "9814152e-4b7e-47ca-c02e-038537cdb76e",
        "colab": {
          "base_uri": "https://localhost:8080/",
          "height": 68
        }
      },
      "source": [
        "\n",
        "\n",
        "batch_size = 1000\n",
        "num_classes = 10\n",
        "epochs = 50\n",
        "\n",
        "# input image dimensions\n",
        "img_rows, img_cols = 28, 28\n",
        "\n",
        "# the data, split between train and test sets\n",
        "(x_train, y_train), (x_test, y_test) = mnist.load_data()\n",
        "\n",
        "if K.image_data_format() == 'channels_first':\n",
        "    x_train = x_train.reshape(x_train.shape[0], 1, img_rows, img_cols)\n",
        "    x_test = x_test.reshape(x_test.shape[0], 1, img_rows, img_cols)\n",
        "    input_shape = (1, img_rows, img_cols)\n",
        "else:\n",
        "    x_train = x_train.reshape(x_train.shape[0], img_rows, img_cols, 1)\n",
        "    x_test = x_test.reshape(x_test.shape[0], img_rows, img_cols, 1)\n",
        "    input_shape = (img_rows, img_cols, 1)\n",
        "\n",
        "x_train = x_train.astype('float32')\n",
        "x_test = x_test.astype('float32')\n",
        "x_train /= 255\n",
        "x_test /= 255\n",
        "print('x_train shape:', x_train.shape)\n",
        "print(x_train.shape[0], 'train samples')\n",
        "print(x_test.shape[0], 'test samples')\n",
        "\n",
        "# convert class vectors to binary class matrices\n",
        "y_train = keras.utils.to_categorical(y_train, num_classes)\n",
        "y_test = keras.utils.to_categorical(y_test, num_classes)\n",
        "\n",
        "model = Sequential()\n",
        "model.add(Conv2D(32, kernel_size=(3, 3),\n",
        "                 activation='relu',\n",
        "                 input_shape=input_shape))\n",
        "model.add(Conv2D(64, (3, 3), activation='relu'))\n",
        "model.add(MaxPooling2D(pool_size=(2, 2)))\n",
        "model.add(Dropout(0.25))\n",
        "model.add(Flatten())\n",
        "model.add(Dense(128, activation='relu'))\n",
        "model.add(Dropout(0.5))\n",
        "model.add(Dense(num_classes, activation='softmax'))\n",
        "\n",
        "model.compile(loss=keras.losses.categorical_crossentropy,\n",
        "              optimizer=keras.optimizers.Adam(),\n",
        "              metrics=['accuracy'])\n",
        "\n"
      ],
      "execution_count": 0,
      "outputs": [
        {
          "output_type": "stream",
          "text": [
            "x_train shape: (60000, 28, 28, 1)\n",
            "60000 train samples\n",
            "10000 test samples\n"
          ],
          "name": "stdout"
        }
      ]
    },
    {
      "cell_type": "code",
      "metadata": {
        "id": "mHyu1qZ085og",
        "colab_type": "code",
        "outputId": "315d1ed1-4868-4cba-aa5b-af0940fd5a77",
        "colab": {
          "base_uri": "https://localhost:8080/",
          "height": 1000
        }
      },
      "source": [
        "model.fit(x_train, y_train,\n",
        "          batch_size=batch_size,\n",
        "          epochs=epochs,\n",
        "          verbose=1,\n",
        "          validation_data=(x_test, y_test))\n",
        "score = model.evaluate(x_test, y_test, verbose=0)\n",
        "print('Test loss:', score[0])\n",
        "print('Test accuracy:', score[1])"
      ],
      "execution_count": 0,
      "outputs": [
        {
          "output_type": "stream",
          "text": [
            "Train on 60000 samples, validate on 10000 samples\n",
            "Epoch 1/50\n",
            "60000/60000 [==============================] - 5s 86us/step - loss: 0.5555 - accuracy: 0.8312 - val_loss: 0.1431 - val_accuracy: 0.9571\n",
            "Epoch 2/50\n",
            "60000/60000 [==============================] - 5s 81us/step - loss: 0.1574 - accuracy: 0.9542 - val_loss: 0.0679 - val_accuracy: 0.9792\n",
            "Epoch 3/50\n",
            "60000/60000 [==============================] - 5s 82us/step - loss: 0.1024 - accuracy: 0.9700 - val_loss: 0.0493 - val_accuracy: 0.9842\n",
            "Epoch 4/50\n",
            "60000/60000 [==============================] - 5s 82us/step - loss: 0.0778 - accuracy: 0.9776 - val_loss: 0.0420 - val_accuracy: 0.9861\n",
            "Epoch 5/50\n",
            "60000/60000 [==============================] - 5s 82us/step - loss: 0.0642 - accuracy: 0.9807 - val_loss: 0.0366 - val_accuracy: 0.9872\n",
            "Epoch 6/50\n",
            "60000/60000 [==============================] - 5s 82us/step - loss: 0.0565 - accuracy: 0.9827 - val_loss: 0.0343 - val_accuracy: 0.9886\n",
            "Epoch 7/50\n",
            "60000/60000 [==============================] - 5s 81us/step - loss: 0.0499 - accuracy: 0.9845 - val_loss: 0.0318 - val_accuracy: 0.9899\n",
            "Epoch 8/50\n",
            "60000/60000 [==============================] - 5s 81us/step - loss: 0.0459 - accuracy: 0.9858 - val_loss: 0.0311 - val_accuracy: 0.9892\n",
            "Epoch 9/50\n",
            "60000/60000 [==============================] - 5s 81us/step - loss: 0.0406 - accuracy: 0.9873 - val_loss: 0.0297 - val_accuracy: 0.9896\n",
            "Epoch 10/50\n",
            "60000/60000 [==============================] - 5s 81us/step - loss: 0.0379 - accuracy: 0.9879 - val_loss: 0.0283 - val_accuracy: 0.9900\n",
            "Epoch 11/50\n",
            "60000/60000 [==============================] - 5s 81us/step - loss: 0.0334 - accuracy: 0.9900 - val_loss: 0.0281 - val_accuracy: 0.9907\n",
            "Epoch 12/50\n",
            "60000/60000 [==============================] - 5s 81us/step - loss: 0.0305 - accuracy: 0.9902 - val_loss: 0.0301 - val_accuracy: 0.9899\n",
            "Epoch 13/50\n",
            "60000/60000 [==============================] - 5s 81us/step - loss: 0.0280 - accuracy: 0.9911 - val_loss: 0.0278 - val_accuracy: 0.9911\n",
            "Epoch 14/50\n",
            "60000/60000 [==============================] - 5s 81us/step - loss: 0.0284 - accuracy: 0.9909 - val_loss: 0.0282 - val_accuracy: 0.9907\n",
            "Epoch 15/50\n",
            "60000/60000 [==============================] - 5s 82us/step - loss: 0.0262 - accuracy: 0.9918 - val_loss: 0.0294 - val_accuracy: 0.9901\n",
            "Epoch 16/50\n",
            "60000/60000 [==============================] - 5s 80us/step - loss: 0.0251 - accuracy: 0.9920 - val_loss: 0.0296 - val_accuracy: 0.9917\n",
            "Epoch 17/50\n",
            "60000/60000 [==============================] - 5s 81us/step - loss: 0.0233 - accuracy: 0.9924 - val_loss: 0.0300 - val_accuracy: 0.9910\n",
            "Epoch 18/50\n",
            "60000/60000 [==============================] - 5s 82us/step - loss: 0.0216 - accuracy: 0.9930 - val_loss: 0.0280 - val_accuracy: 0.9924\n",
            "Epoch 19/50\n",
            "60000/60000 [==============================] - 5s 82us/step - loss: 0.0219 - accuracy: 0.9927 - val_loss: 0.0282 - val_accuracy: 0.9914\n",
            "Epoch 20/50\n",
            "60000/60000 [==============================] - 5s 81us/step - loss: 0.0190 - accuracy: 0.9938 - val_loss: 0.0301 - val_accuracy: 0.9908\n",
            "Epoch 21/50\n",
            "60000/60000 [==============================] - 5s 81us/step - loss: 0.0193 - accuracy: 0.9935 - val_loss: 0.0301 - val_accuracy: 0.9917\n",
            "Epoch 22/50\n",
            "60000/60000 [==============================] - 5s 81us/step - loss: 0.0182 - accuracy: 0.9940 - val_loss: 0.0322 - val_accuracy: 0.9905\n",
            "Epoch 23/50\n",
            "60000/60000 [==============================] - 5s 81us/step - loss: 0.0166 - accuracy: 0.9945 - val_loss: 0.0275 - val_accuracy: 0.9919\n",
            "Epoch 24/50\n",
            "60000/60000 [==============================] - 5s 82us/step - loss: 0.0176 - accuracy: 0.9945 - val_loss: 0.0318 - val_accuracy: 0.9914\n",
            "Epoch 25/50\n",
            "60000/60000 [==============================] - 5s 81us/step - loss: 0.0144 - accuracy: 0.9953 - val_loss: 0.0300 - val_accuracy: 0.9918\n",
            "Epoch 26/50\n",
            "60000/60000 [==============================] - 5s 81us/step - loss: 0.0140 - accuracy: 0.9951 - val_loss: 0.0319 - val_accuracy: 0.9916\n",
            "Epoch 27/50\n",
            "60000/60000 [==============================] - 5s 81us/step - loss: 0.0147 - accuracy: 0.9952 - val_loss: 0.0309 - val_accuracy: 0.9915\n",
            "Epoch 28/50\n",
            "60000/60000 [==============================] - 5s 81us/step - loss: 0.0146 - accuracy: 0.9952 - val_loss: 0.0325 - val_accuracy: 0.9916\n",
            "Epoch 29/50\n",
            "60000/60000 [==============================] - 5s 81us/step - loss: 0.0131 - accuracy: 0.9953 - val_loss: 0.0315 - val_accuracy: 0.9916\n",
            "Epoch 30/50\n",
            "60000/60000 [==============================] - 5s 81us/step - loss: 0.0133 - accuracy: 0.9956 - val_loss: 0.0315 - val_accuracy: 0.9917\n",
            "Epoch 31/50\n",
            "60000/60000 [==============================] - 5s 81us/step - loss: 0.0134 - accuracy: 0.9953 - val_loss: 0.0327 - val_accuracy: 0.9914\n",
            "Epoch 32/50\n",
            "60000/60000 [==============================] - 5s 81us/step - loss: 0.0123 - accuracy: 0.9960 - val_loss: 0.0351 - val_accuracy: 0.9909\n",
            "Epoch 33/50\n",
            "60000/60000 [==============================] - 5s 82us/step - loss: 0.0120 - accuracy: 0.9959 - val_loss: 0.0314 - val_accuracy: 0.9903\n",
            "Epoch 34/50\n",
            "60000/60000 [==============================] - 5s 81us/step - loss: 0.0120 - accuracy: 0.9961 - val_loss: 0.0326 - val_accuracy: 0.9922\n",
            "Epoch 35/50\n",
            "60000/60000 [==============================] - 5s 81us/step - loss: 0.0106 - accuracy: 0.9966 - val_loss: 0.0330 - val_accuracy: 0.9923\n",
            "Epoch 36/50\n",
            "60000/60000 [==============================] - 5s 81us/step - loss: 0.0115 - accuracy: 0.9961 - val_loss: 0.0326 - val_accuracy: 0.9918\n",
            "Epoch 37/50\n",
            "60000/60000 [==============================] - 5s 81us/step - loss: 0.0106 - accuracy: 0.9962 - val_loss: 0.0304 - val_accuracy: 0.9917\n",
            "Epoch 38/50\n",
            "60000/60000 [==============================] - 5s 81us/step - loss: 0.0103 - accuracy: 0.9965 - val_loss: 0.0343 - val_accuracy: 0.9914\n",
            "Epoch 39/50\n",
            "60000/60000 [==============================] - 5s 81us/step - loss: 0.0092 - accuracy: 0.9971 - val_loss: 0.0326 - val_accuracy: 0.9926\n",
            "Epoch 40/50\n",
            "60000/60000 [==============================] - 5s 81us/step - loss: 0.0089 - accuracy: 0.9968 - val_loss: 0.0367 - val_accuracy: 0.9923\n",
            "Epoch 41/50\n",
            "60000/60000 [==============================] - 5s 81us/step - loss: 0.0091 - accuracy: 0.9968 - val_loss: 0.0369 - val_accuracy: 0.9922\n",
            "Epoch 42/50\n",
            "60000/60000 [==============================] - 5s 81us/step - loss: 0.0100 - accuracy: 0.9966 - val_loss: 0.0322 - val_accuracy: 0.9926\n",
            "Epoch 43/50\n",
            "60000/60000 [==============================] - 5s 82us/step - loss: 0.0094 - accuracy: 0.9968 - val_loss: 0.0359 - val_accuracy: 0.9925\n",
            "Epoch 44/50\n",
            "60000/60000 [==============================] - 5s 81us/step - loss: 0.0100 - accuracy: 0.9964 - val_loss: 0.0330 - val_accuracy: 0.9920\n",
            "Epoch 45/50\n",
            "60000/60000 [==============================] - 5s 81us/step - loss: 0.0092 - accuracy: 0.9969 - val_loss: 0.0352 - val_accuracy: 0.9918\n",
            "Epoch 46/50\n",
            "60000/60000 [==============================] - 5s 81us/step - loss: 0.0088 - accuracy: 0.9970 - val_loss: 0.0324 - val_accuracy: 0.9927\n",
            "Epoch 47/50\n",
            "60000/60000 [==============================] - 5s 81us/step - loss: 0.0071 - accuracy: 0.9976 - val_loss: 0.0355 - val_accuracy: 0.9921\n",
            "Epoch 48/50\n",
            "60000/60000 [==============================] - 5s 82us/step - loss: 0.0095 - accuracy: 0.9969 - val_loss: 0.0369 - val_accuracy: 0.9920\n",
            "Epoch 49/50\n",
            "60000/60000 [==============================] - 5s 81us/step - loss: 0.0091 - accuracy: 0.9970 - val_loss: 0.0347 - val_accuracy: 0.9923\n",
            "Epoch 50/50\n",
            "60000/60000 [==============================] - 5s 81us/step - loss: 0.0093 - accuracy: 0.9968 - val_loss: 0.0355 - val_accuracy: 0.9919\n",
            "Test loss: 0.03552116060501551\n",
            "Test accuracy: 0.9919000267982483\n"
          ],
          "name": "stdout"
        }
      ]
    },
    {
      "cell_type": "code",
      "metadata": {
        "id": "A0xlkXznmKUB",
        "colab_type": "code",
        "colab": {}
      },
      "source": [
        "import matplotlib.pyplot as plt\n",
        "import numpy as np\n",
        "\n",
        "def rotate_img(x, deg):\n",
        "    import scipy.ndimage as nd\n",
        "    return nd.rotate(x.reshape(28,28),deg,reshape=False).ravel()"
      ],
      "execution_count": 0,
      "outputs": []
    },
    {
      "cell_type": "code",
      "metadata": {
        "id": "NMDW02_RpcYb",
        "colab_type": "code",
        "outputId": "c66c3763-8012-4eba-dfff-943d3e10823f",
        "colab": {
          "base_uri": "https://localhost:8080/",
          "height": 265
        }
      },
      "source": [
        "digit_one = x_test[5]\n",
        "plt.imshow(digit_one.reshape(28,28)) \n",
        "plt.show()"
      ],
      "execution_count": 0,
      "outputs": [
        {
          "output_type": "display_data",
          "data": {
            "image/png": "[encoded data removed]",
            "text/plain": [
              "<Figure size 432x288 with 1 Axes>"
            ]
          },
          "metadata": {
            "tags": [],
            "needs_background": "light"
          }
        }
      ]
    },
    {
      "cell_type": "code",
      "metadata": {
        "id": "h3_o3x2jr3-S",
        "colab_type": "code",
        "outputId": "19ed5240-a57e-4f80-ea88-a9e5e437062d",
        "colab": {
          "base_uri": "https://localhost:8080/",
          "height": 68
        }
      },
      "source": [
        "model.predict(digit_one.reshape(1, 28,28,1))"
      ],
      "execution_count": 0,
      "outputs": [
        {
          "output_type": "execute_result",
          "data": {
            "text/plain": [
              "array([[3.3381246e-13, 1.0000000e+00, 1.2620004e-12, 7.5564590e-17,\n",
              "        2.0263545e-10, 3.0437174e-14, 3.9960196e-13, 3.4197443e-09,\n",
              "        1.9552545e-12, 1.1285548e-14]], dtype=float32)"
            ]
          },
          "metadata": {
            "tags": []
          },
          "execution_count": 523
        }
      ]
    },
    {
      "cell_type": "code",
      "metadata": {
        "id": "Ze1BO3yPphkl",
        "colab_type": "code",
        "outputId": "d7dcd59f-aeae-4b77-a482-f270a2ce48eb",
        "colab": {
          "base_uri": "https://localhost:8080/",
          "height": 282
        }
      },
      "source": [
        "plt.imshow(rotate_img(digit_one, 90).reshape(28,28))"
      ],
      "execution_count": 0,
      "outputs": [
        {
          "output_type": "execute_result",
          "data": {
            "text/plain": [
              "<matplotlib.image.AxesImage at 0x7fb5dd7a6f60>"
            ]
          },
          "metadata": {
            "tags": []
          },
          "execution_count": 524
        },
        {
          "output_type": "display_data",
          "data": {
            "image/png": "[encoded data removed]",
            "text/plain": [
              "<Figure size 432x288 with 1 Axes>"
            ]
          },
          "metadata": {
            "tags": [],
            "needs_background": "light"
          }
        }
      ]
    },
    {
      "cell_type": "code",
      "metadata": {
        "id": "B_gNUDp1qICy",
        "colab_type": "code",
        "outputId": "dc33b32d-9d97-4d28-b352-8566ebbc4ab1",
        "colab": {
          "base_uri": "https://localhost:8080/",
          "height": 68
        }
      },
      "source": [
        "model.predict(rotate_img(digit_one, 90).reshape(1, 28,28,1))"
      ],
      "execution_count": 0,
      "outputs": [
        {
          "output_type": "execute_result",
          "data": {
            "text/plain": [
              "array([[4.26818346e-12, 4.66139405e-10, 6.74091268e-07, 1.23609984e-08,\n",
              "        1.67350254e-06, 3.42739168e-06, 4.87541344e-12, 9.99993920e-01,\n",
              "        2.40558535e-07, 2.46898584e-13]], dtype=float32)"
            ]
          },
          "metadata": {
            "tags": []
          },
          "execution_count": 525
        }
      ]
    },
    {
      "cell_type": "code",
      "metadata": {
        "id": "wi1YZ2ynqk50",
        "colab_type": "code",
        "outputId": "b831929b-471b-49a6-ed2a-6325a3175a6f",
        "colab": {
          "base_uri": "https://localhost:8080/",
          "height": 34
        }
      },
      "source": [
        "np.argmax(model.predict(rotate_img(digit_one, 90).reshape(1, 28,28,1)))"
      ],
      "execution_count": 0,
      "outputs": [
        {
          "output_type": "execute_result",
          "data": {
            "text/plain": [
              "7"
            ]
          },
          "metadata": {
            "tags": []
          },
          "execution_count": 526
        }
      ]
    },
    {
      "cell_type": "code",
      "metadata": {
        "id": "0Tlymgc6sD03",
        "colab_type": "code",
        "outputId": "1b183abb-5a0c-4d7a-985e-cd347791ad42",
        "colab": {
          "base_uri": "https://localhost:8080/",
          "height": 34
        }
      },
      "source": [
        "pred = []\n",
        "for degree in np.arange(0, 180, 10):\n",
        "    pred.append(np.argmax(model.predict(rotate_img(digit_one, degree).reshape(1, 28,28,1))))\n",
        "\n",
        "print(pred)"
      ],
      "execution_count": 0,
      "outputs": [
        {
          "output_type": "stream",
          "text": [
            "[1, 1, 1, 1, 1, 1, 5, 5, 7, 7, 7, 7, 7, 5, 1, 1, 1, 1]\n"
          ],
          "name": "stdout"
        }
      ]
    },
    {
      "cell_type": "code",
      "metadata": {
        "id": "ioimy-hVskMo",
        "colab_type": "code",
        "outputId": "62ab152b-01d2-4ec6-bfbb-53b88fbf8344",
        "colab": {
          "base_uri": "https://localhost:8080/",
          "height": 554
        }
      },
      "source": [
        "pred_one = []\n",
        "pred_five = []\n",
        "pred_seven = []\n",
        "pred_four = []\n",
        "\n",
        "_x = np.arange(0, 180, 5)\n",
        "\n",
        "for degree in _x:\n",
        "    vs = model.predict(rotate_img(digit_one, degree).reshape(1, 28,28,1))[0]\n",
        "    pred_one.append(vs[1])\n",
        "    pred_four.append(vs[4])\n",
        "    pred_five.append(vs[5])\n",
        "    pred_seven.append(vs[7])\n",
        "\n",
        "plt.figure(figsize=(16,9))\n",
        "plt.plot(_x, pred_one, label='1')\n",
        "plt.plot(_x, pred_four, label='4')\n",
        "plt.plot(_x, pred_five, label='5')\n",
        "plt.plot(_x, pred_seven, label='7')\n",
        "plt.legend()"
      ],
      "execution_count": 0,
      "outputs": [
        {
          "output_type": "execute_result",
          "data": {
            "text/plain": [
              "<matplotlib.legend.Legend at 0x7fb5dd703978>"
            ]
          },
          "metadata": {
            "tags": []
          },
          "execution_count": 529
        },
        {
          "output_type": "display_data",
          "data": {
            "image/png": "[encoded data removed]",
            "text/plain": [
              "<Figure size 1152x648 with 1 Axes>"
            ]
          },
          "metadata": {
            "tags": [],
            "needs_background": "light"
          }
        }
      ]
    },
    {
      "cell_type": "markdown",
      "metadata": {
        "id": "33S-YRxEVfF5",
        "colab_type": "text"
      },
      "source": [
        "## EDL"
      ]
    },
    {
      "cell_type": "code",
      "metadata": {
        "id": "gZrDNkN5tBET",
        "colab_type": "code",
        "colab": {}
      },
      "source": [
        "model_edl = Sequential()\n",
        "model_edl.add(Conv2D(32, kernel_size=(3, 3),\n",
        "                 activation='relu',\n",
        "                 input_shape=input_shape))\n",
        "model_edl.add(Conv2D(64, (3, 3), activation='relu'))\n",
        "model_edl.add(MaxPooling2D(pool_size=(2, 2)))\n",
        "#model.add(Dropout(0.25))\n",
        "model_edl.add(Flatten())\n",
        "model_edl.add(Dense(128, activation='relu', bias_regularizer=keras.regularizers.l2(l=0.005), kernel_regularizer=keras.regularizers.l2(l=0.005)))\n",
        "model_edl.add(Dropout(0.25))\n",
        "# note the change of activation\n",
        "model_edl.add(Dense(num_classes, activation='relu', bias_regularizer=keras.regularizers.l2(l=0.005), kernel_regularizer=keras.regularizers.l2(l=0.005)))"
      ],
      "execution_count": 0,
      "outputs": []
    },
    {
      "cell_type": "code",
      "metadata": {
        "id": "G5HjVNwMurfJ",
        "colab_type": "code",
        "colab": {}
      },
      "source": [
        "import keras.backend as K\n",
        "import tensorflow as tf\n",
        "\n",
        "\n",
        "def KL(alpha):\n",
        "    beta=K.constant(np.ones((1,10)),dtype=\"float32\")\n",
        "    S_alpha = K.sum(alpha,axis=1,keepdims=True)\n",
        "    S_beta = K.sum(beta,axis=1,keepdims=True)\n",
        "    lnB = tf.math.lgamma(S_alpha) - K.sum(tf.math.lgamma(alpha),axis=1,keepdims=True)\n",
        "    lnB_uni = K.sum(tf.math.lgamma(beta),axis=1,keepdims=True) - tf.math.lgamma(S_beta)\n",
        "    \n",
        "    dg0 = tf.math.digamma(S_alpha)\n",
        "    dg1 = tf.math.digamma(alpha)\n",
        "    \n",
        "    return K.sum((alpha - beta)*(dg1-dg0),axis=1,keepdims=True) + lnB + lnB_uni\n",
        "\n",
        "def mse_loss(yTrue,yPred):\n",
        "    alpha = yPred + 1\n",
        "    S = K.sum(alpha, axis=1, keepdims=True)\n",
        "    m = alpha / S\n",
        "    A = K.sum((yTrue-m)**2, axis=1, keepdims=True)\n",
        "    B = K.sum(alpha*(S-alpha)/(S*S*(S+1)), axis=1, keepdims=True)\n",
        "\n",
        "    # ep is a global variable that contains the number of the epoch\n",
        "    ll = min(1.0, float(ep)/float(6))\n",
        "    \n",
        "    alp = yPred*(1-yTrue) + 1 \n",
        "    C =  ll * KL(alp)\n",
        "\n",
        "    return A + B + C"
      ],
      "execution_count": 0,
      "outputs": []
    },
    {
      "cell_type": "code",
      "metadata": {
        "id": "p9wVxA5W-opU",
        "colab_type": "code",
        "colab": {}
      },
      "source": [
        "def edl_accuracy(yTrue, yPred):\n",
        "    pred = K.argmax(yPred, axis=1)\n",
        "    truth = K.argmax(yTrue, axis=1)\n",
        "    match = K.reshape(K.cast(K.equal(pred, truth), \"float32\"),(-1,1))\n",
        "    return K.mean(match)\n"
      ],
      "execution_count": 0,
      "outputs": []
    },
    {
      "cell_type": "code",
      "metadata": {
        "id": "_fi-jkzdwR6q",
        "colab_type": "code",
        "colab": {}
      },
      "source": [
        "from keras.callbacks import Callback\n",
        "\n",
        "ep = 1\n",
        "\n",
        "class GetEpochs(Callback):\n",
        "    def on_epoch_end(self, epoch, logs={}):\n",
        "        global ep\n",
        "        ep += 1\n",
        "\n",
        "\n",
        "model_edl.compile(loss=mse_loss,\n",
        "              optimizer=keras.optimizers.Adam(),\n",
        "              metrics=[edl_accuracy])\n"
      ],
      "execution_count": 0,
      "outputs": []
    },
    {
      "cell_type": "code",
      "metadata": {
        "id": "WVvxSLwBCB4u",
        "colab_type": "code",
        "outputId": "aec8e672-4932-441c-c1c9-0a2e930a8f10",
        "colab": {
          "base_uri": "https://localhost:8080/",
          "height": 68
        }
      },
      "source": [
        "model_edl.predict(digit_one.reshape(1, 28,28,1))"
      ],
      "execution_count": 0,
      "outputs": [
        {
          "output_type": "execute_result",
          "data": {
            "text/plain": [
              "array([[0.02068036, 0.        , 0.        , 0.        , 0.00097928,\n",
              "        0.05629957, 0.        , 0.        , 0.        , 0.01528445]],\n",
              "      dtype=float32)"
            ]
          },
          "metadata": {
            "tags": []
          },
          "execution_count": 534
        }
      ]
    },
    {
      "cell_type": "code",
      "metadata": {
        "id": "jYWX1Bb8Bv91",
        "colab_type": "code",
        "outputId": "ba21b7a6-18ea-4748-cb49-d5d2cb161f17",
        "colab": {
          "base_uri": "https://localhost:8080/",
          "height": 34
        }
      },
      "source": [
        "mse_loss(y_test[0], model_edl.predict(digit_one.reshape(1, 28,28,1)))"
      ],
      "execution_count": 0,
      "outputs": [
        {
          "output_type": "execute_result",
          "data": {
            "text/plain": [
              "<tf.Tensor: shape=(1, 1), dtype=float32, numpy=array([[0.98343]], dtype=float32)>"
            ]
          },
          "metadata": {
            "tags": []
          },
          "execution_count": 535
        }
      ]
    },
    {
      "cell_type": "markdown",
      "metadata": {
        "id": "TF2oxo8fIBkb",
        "colab_type": "text"
      },
      "source": [
        "Load model and weights"
      ]
    },
    {
      "cell_type": "code",
      "metadata": {
        "id": "gemBvHbq2KZx",
        "colab_type": "code",
        "outputId": "b5eb7eb8-5846-4128-bfaa-910187527b9b",
        "colab": {
          "base_uri": "https://localhost:8080/",
          "height": 615
        }
      },
      "source": [
        "!wget -O model.json https://drive.google.com/u/1/uc?id=1FoDjZAISiPuiG5zGYYVkcTcnYUV8bons&export=download\n",
        "!wget -O model.h5 https://drive.google.com/u/1/uc?id=1D_-CX2znCxRITy5e6aXD1cFPYfUIYE-R&export=download"
      ],
      "execution_count": 0,
      "outputs": [
        {
          "output_type": "stream",
          "text": [
            "--2020-05-23 13:09:37--  https://drive.google.com/u/1/uc?id=1FoDjZAISiPuiG5zGYYVkcTcnYUV8bons\n",
            "Resolving drive.google.com (drive.google.com)... 74.125.201.113, 74.125.201.138, 74.125.201.102, ...\n",
            "Connecting to drive.google.com (drive.google.com)|74.125.201.113|:443... connected.\n",
            "HTTP request sent, awaiting response... 302 Moved Temporarily\n",
            "Location: https://doc-0k-1k-docs.googleusercontent.com/docs/securesc/ha0ro937gcuc7l7deffksulhg5h7mbp1/b1v0qfuq3culhcjt4t7b7ck9f0v4aiae/1590239325000/05236606107795315109/*/1FoDjZAISiPuiG5zGYYVkcTcnYUV8bons [following]\n",
            "Warning: wildcards not supported in HTTP.\n",
            "--2020-05-23 13:09:38--  https://doc-0k-1k-docs.googleusercontent.com/docs/securesc/ha0ro937gcuc7l7deffksulhg5h7mbp1/b1v0qfuq3culhcjt4t7b7ck9f0v4aiae/1590239325000/05236606107795315109/*/1FoDjZAISiPuiG5zGYYVkcTcnYUV8bons\n",
            "Resolving doc-0k-1k-docs.googleusercontent.com (doc-0k-1k-docs.googleusercontent.com)... 74.125.124.132, 2607:f8b0:4001:c14::84\n",
            "Connecting to doc-0k-1k-docs.googleusercontent.com (doc-0k-1k-docs.googleusercontent.com)|74.125.124.132|:443... connected.\n",
            "HTTP request sent, awaiting response... 200 OK\n",
            "Length: 3123 (3.0K) [application/json]\n",
            "Saving to: ‘model.json’\n",
            "\n",
            "model.json          100%[===================>]   3.05K  --.-KB/s    in 0s      \n",
            "\n",
            "2020-05-23 13:09:38 (33.5 MB/s) - ‘model.json’ saved [3123/3123]\n",
            "\n",
            "--2020-05-23 13:09:39--  https://drive.google.com/u/1/uc?id=1D_-CX2znCxRITy5e6aXD1cFPYfUIYE-R\n",
            "Resolving drive.google.com (drive.google.com)... 74.125.201.113, 74.125.201.100, 74.125.201.101, ...\n",
            "Connecting to drive.google.com (drive.google.com)|74.125.201.113|:443... connected.\n",
            "HTTP request sent, awaiting response... 302 Moved Temporarily\n",
            "Location: https://doc-0c-1k-docs.googleusercontent.com/docs/securesc/ha0ro937gcuc7l7deffksulhg5h7mbp1/ifubg248a10qo3rll1fip5orvhum6bmc/1590239325000/05236606107795315109/*/1D_-CX2znCxRITy5e6aXD1cFPYfUIYE-R [following]\n",
            "Warning: wildcards not supported in HTTP.\n",
            "--2020-05-23 13:09:40--  https://doc-0c-1k-docs.googleusercontent.com/docs/securesc/ha0ro937gcuc7l7deffksulhg5h7mbp1/ifubg248a10qo3rll1fip5orvhum6bmc/1590239325000/05236606107795315109/*/1D_-CX2znCxRITy5e6aXD1cFPYfUIYE-R\n",
            "Resolving doc-0c-1k-docs.googleusercontent.com (doc-0c-1k-docs.googleusercontent.com)... 74.125.124.132, 2607:f8b0:4001:c14::84\n",
            "Connecting to doc-0c-1k-docs.googleusercontent.com (doc-0c-1k-docs.googleusercontent.com)|74.125.124.132|:443... connected.\n",
            "HTTP request sent, awaiting response... 200 OK\n",
            "Length: unspecified [application/octet-stream]\n",
            "Saving to: ‘model.h5’\n",
            "\n",
            "model.h5                [ <=>                ]   4.60M  --.-KB/s    in 0.04s   \n",
            "\n",
            "2020-05-23 13:09:40 (129 MB/s) - ‘model.h5’ saved [4820560]\n",
            "\n"
          ],
          "name": "stdout"
        }
      ]
    },
    {
      "cell_type": "code",
      "metadata": {
        "id": "YrkePck9xQdy",
        "colab_type": "code",
        "colab": {}
      },
      "source": [
        "from keras.models import model_from_json\n",
        "\n",
        "json_file = open('model.json', 'r')\n",
        "loaded_model_json = json_file.read()\n",
        "json_file.close()\n",
        "loaded_model = model_from_json(loaded_model_json)\n",
        "# load weights into new model\n",
        "loaded_model.load_weights(\"model.h5\")\n",
        "\n",
        "loaded_model.compile(loss=mse_loss,\n",
        "              optimizer=keras.optimizers.Adam(),\n",
        "              metrics=[edl_accuracy])\n",
        "\n",
        "\n",
        "# # #To train from scratch # change the selector below accordingly\n",
        "# model_edl.fit(x_train, y_train,\n",
        "#            batch_size=1000,\n",
        "#            epochs=50,\n",
        "#            verbose=1,\n",
        "#            validation_data=(x_test, y_test),\n",
        "#            callbacks=[GetEpochs(),])"
      ],
      "execution_count": 0,
      "outputs": []
    },
    {
      "cell_type": "code",
      "metadata": {
        "id": "1902Rzue1fSM",
        "colab_type": "code",
        "colab": {}
      },
      "source": [
        "# # #To save the model\n",
        "# model_json = model_edl.to_json()\n",
        "# with open(\"mnist_edl.json\", \"w\") as json_file:\n",
        "#     json_file.write(model_json)\n",
        "\n",
        "# model_edl.save_weights(\"mnist_edl_weights.h5\")"
      ],
      "execution_count": 0,
      "outputs": []
    },
    {
      "cell_type": "markdown",
      "metadata": {
        "id": "XzS2QYErjtHB",
        "colab_type": "text"
      },
      "source": [
        "**SELECTOR ON WHETHER TO USE THE LOADED_MODEL OR THE TRAINED MODEL_EDL**"
      ]
    },
    {
      "cell_type": "code",
      "metadata": {
        "id": "JRenWkZi2z1l",
        "colab_type": "code",
        "colab": {}
      },
      "source": [
        "# #To use the model trained from scratch\n",
        "# medl = model_edl\n",
        "medl = loaded_model"
      ],
      "execution_count": 0,
      "outputs": []
    },
    {
      "cell_type": "code",
      "metadata": {
        "id": "Fyc27mS_yB_F",
        "colab_type": "code",
        "outputId": "05e88bbc-ec5e-41c1-8ef1-7e0e99d026ef",
        "colab": {
          "base_uri": "https://localhost:8080/",
          "height": 51
        }
      },
      "source": [
        "medl.predict(digit_one.reshape(1, 28,28,1))"
      ],
      "execution_count": 0,
      "outputs": [
        {
          "output_type": "execute_result",
          "data": {
            "text/plain": [
              "array([[ 0.      , 88.432785,  0.      ,  0.      ,  0.      ,  0.      ,\n",
              "         0.      ,  0.      ,  0.      ,  0.      ]], dtype=float32)"
            ]
          },
          "metadata": {
            "tags": []
          },
          "execution_count": 539
        }
      ]
    },
    {
      "cell_type": "code",
      "metadata": {
        "id": "Hh3JKVrgI5E6",
        "colab_type": "code",
        "colab": {}
      },
      "source": [
        "from scipy.stats import dirichlet\n",
        "\n",
        "def img_to_dirichlet(img, nn=medl):\n",
        "    _ev = nn.predict(img.reshape(1, 28,28,1))\n",
        "    alpha = _ev.reshape(10,)+1\n",
        "    S = np.sum(alpha)\n",
        "    K = 10.0\n",
        "    return dirichlet.mean(alpha), K/S"
      ],
      "execution_count": 0,
      "outputs": []
    },
    {
      "cell_type": "code",
      "metadata": {
        "id": "DXX_Kd620C22",
        "colab_type": "code",
        "outputId": "41e2dec6-0e2d-4405-e2ca-a361ede166b7",
        "colab": {
          "base_uri": "https://localhost:8080/",
          "height": 68
        }
      },
      "source": [
        "img_to_dirichlet(digit_one)"
      ],
      "execution_count": 0,
      "outputs": [
        {
          "output_type": "execute_result",
          "data": {
            "text/plain": [
              "(array([0.01015922, 0.9085671 , 0.01015922, 0.01015922, 0.01015922,\n",
              "        0.01015922, 0.01015922, 0.01015922, 0.01015922, 0.01015922],\n",
              "       dtype=float32), 0.10159216765559982)"
            ]
          },
          "metadata": {
            "tags": []
          },
          "execution_count": 541
        }
      ]
    },
    {
      "cell_type": "code",
      "metadata": {
        "id": "gcOfSJ4LKX7f",
        "colab_type": "code",
        "outputId": "2c4c3c51-0f9d-4252-dc67-8981cefd6f86",
        "colab": {
          "base_uri": "https://localhost:8080/",
          "height": 554
        }
      },
      "source": [
        "pred_one = []\n",
        "pred_u = []\n",
        "pred_seven = []\n",
        "pred_five = []\n",
        "pred_four = []\n",
        "pred_zero = []\n",
        "pred_two = []\n",
        "\n",
        "_x = np.arange(0, 180, 5)\n",
        "\n",
        "for degree in _x:\n",
        "    m, u = img_to_dirichlet(rotate_img(digit_one, degree))\n",
        "    pred_one.append(m[1])\n",
        "    pred_seven.append(m[7])\n",
        "    pred_five.append(m[5])\n",
        "    pred_four.append(m[4])\n",
        "    pred_zero.append(m[0])\n",
        "    pred_two.append(m[2])\n",
        "    pred_u.append(u)\n",
        "\n",
        "plt.figure(figsize=(16,9))\n",
        "#plt.plot(_x, pred_zero, label='0')\n",
        "plt.plot(_x, pred_one, label='1')\n",
        "plt.plot(_x, pred_two, label='2')\n",
        "plt.plot(_x, pred_four, label='4')\n",
        "#plt.plot(_x, pred_five, label='5')\n",
        "#plt.plot(_x, pred_seven, label='7')\n",
        "plt.plot(_x, pred_u, label='uncertainty', c='k')\n",
        "plt.legend()"
      ],
      "execution_count": 0,
      "outputs": [
        {
          "output_type": "execute_result",
          "data": {
            "text/plain": [
              "<matplotlib.legend.Legend at 0x7fb5dd56edd8>"
            ]
          },
          "metadata": {
            "tags": []
          },
          "execution_count": 542
        },
        {
          "output_type": "display_data",
          "data": {
            "image/png": "[encoded data removed]",
            "text/plain": [
              "<Figure size 1152x648 with 1 Axes>"
            ]
          },
          "metadata": {
            "tags": [],
            "needs_background": "light"
          }
        }
      ]
    },
    {
      "cell_type": "code",
      "metadata": {
        "id": "uYBxgo1nKqaC",
        "colab_type": "code",
        "colab": {}
      },
      "source": [
        ""
      ],
      "execution_count": 0,
      "outputs": []
    }
  ]
}